{
 "cells": [
  {
   "cell_type": "markdown",
   "id": "d9c57770-4c5b-44e9-8033-06317474f251",
   "metadata": {},
   "source": [
    "# Tutorial 2: STARmap data"
   ]
  },
  {
   "cell_type": "markdown",
   "id": "c2d4bc81-2aad-4251-b900-0b2582c3d938",
   "metadata": {},
   "source": [
    "Here, we use sample id 151673 from DLPFC dataset  to demostrate the performance of GraphPCA. can be downloaded from their original study spatialLIBD(https://research.libd.org/spatialLIBD/index.html).  "
   ]
  },
  {
   "cell_type": "markdown",
   "id": "aa458579-c259-41b0-b991-d60afff7028e",
   "metadata": {},
   "source": [
    "## load packages"
   ]
  }
 ],
 "metadata": {
  "kernelspec": {
   "display_name": "Python 3 (ipykernel)",
   "language": "python",
   "name": "python3"
  },
  "language_info": {
   "codemirror_mode": {
    "name": "ipython",
    "version": 3
   },
   "file_extension": ".py",
   "mimetype": "text/x-python",
   "name": "python",
   "nbconvert_exporter": "python",
   "pygments_lexer": "ipython3",
   "version": "3.9.18"
  }
 },
 "nbformat": 4,
 "nbformat_minor": 5
}
